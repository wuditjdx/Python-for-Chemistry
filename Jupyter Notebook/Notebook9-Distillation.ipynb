{
 "cells": [
  {
   "cell_type": "markdown",
   "metadata": {},
   "source": [
    "在这本篇中，你将计算苯-甲苯系统的预期蒸馏相图，假设苯-甲苯体系为理想体系。对于此篇，我们需要用到numpy和matplotlib.pyplot软件包。"
   ]
  },
  {
   "cell_type": "code",
   "execution_count": 1,
   "metadata": {
    "collapsed": true
   },
   "outputs": [],
   "source": [
    "import numpy as np\n",
    "import matplotlib.pyplot as plt\n"
   ]
  },
  {
   "cell_type": "markdown",
   "metadata": {},
   "source": [
    "要计算蒸馏相图，你需要一些东西。首先你需要的第一件事是一种计算液体沸点温度的方法，第二件事是计算给定温度下液体蒸气压的方法，最后，你需要一种计算化合物在气相中的摩尔分数的方法，知道混合物中化合物的摩尔分数和化合物的蒸气压。对于前两项，我们可以使用克劳修斯-克拉佩龙方程：\n",
    "\n",
    "$$ ln\\frac{P_{1}}{P_{2}} = \\frac{\\Delta H_{vap}}{R}(\\frac{1}{T_{2}} - \\frac{1}{T_{1}})$$\n",
    "\n",
    "其中，$\\Delta H_{vap}$是给定化合物的蒸发焓，$R$是气体常数（8.314 J mol$^{-1}$），$P_{1}$为化合物在$T_{1}$时的蒸汽压，$P_{2}$则为化合物在$T_{2}$处的蒸汽压。\n",
    "\n",
    "在下面的框中，写三个函数。第一个将实现克劳修斯-克拉佩龙方程，该方程以化合物的$P_{1}$、$P_{2}$、$T_{1}$和$\\Delta H_{vap}$作为输入，并返回$T_{2}$。第二个也是克劳修斯-克拉佩龙方程的实现，但将以化合物的$P_{1}$、$T_{1}$、$T_{2}$和$\\Delta H_{vap}$作为输入并返回$P_{2}$。最后的函数将使用拉乌尔定律，并将化合物的摩尔分数和蒸汽压作为输入，返回化合物的分压。"
   ]
  },
  {
   "cell_type": "code",
   "execution_count": null,
   "metadata": {
    "collapsed": true
   },
   "outputs": [],
   "source": []
  },
  {
   "cell_type": "markdown",
   "metadata": {},
   "source": [
    "编写完函数后测试一下它们，以确保没有任何错误。因此，让我们快速检查前两个函数（第三个函数应该足够短，没有理由检查它）。甲苯在20$^{o}$C时的蒸汽压为22毫米汞柱，$\\Delta H_{vap}$为37.3 kJ mol$^{-1}$。苯在20$^{o}$C时的蒸汽压为76毫米汞柱，$\\Delta H_{vap}$为33.9 kJ mol$^{-1}$。在下面的框中，使用您编写的第一个函数来计算甲苯和苯的沸点（以$^{o}$C为单位），并使用您撰写的第二个方程来计算40$^{o}$C下甲苯和苯蒸汽压。你计算的蒸汽压应该接近实际值，你可以查找[甲苯](https://pubs.acs.org/doi/10.1021/ie50241a004)和[苯](https://en.wikipedia.org/wiki/Benzene_%28data_page%29).\n",
    "\n",
    "记住，液体的沸点是指液体的蒸汽压等于大气压（760毫米汞柱）的温度！此外，你需要注意单位，因为$R$的单位是J mol$^{-1}$，而$\\Delta H_{vap}美元的单位是kJ mol$^{-1}美元，克劳修斯-克拉佩龙方程需要的温度是K，而不是$^{o}$C。"
   ]
  },
  {
   "cell_type": "code",
   "execution_count": null,
   "metadata": {},
   "outputs": [],
   "source": [
    "\n"
   ]
  },
  {
   "cell_type": "markdown",
   "metadata": {},
   "source": [
    "第二个测试，计算40 mol%甲苯和60 mol%苯的混合溶液的沸点。然后，计算甲苯和苯在这个温度下的蒸汽压，并使用第三个函数（加上道尔顿定律）计算甲苯和苯在气相中的摩尔比。当您计算混合物的沸腾温度时，使用焓的加权平均值作为您的总溶液焓（即$\\Delta H_{vap，mix}$=.4 x$\\Delta-H{vap，tol}$+.6 x $\\Delta H_{vap，benz}$）。"
   ]
  },
  {
   "cell_type": "code",
   "execution_count": null,
   "metadata": {},
   "outputs": [],
   "source": [
    "\n"
   ]
  },
  {
   "cell_type": "markdown",
   "metadata": {},
   "source": [
    "如果一切正常，你应该得到85$^{o}$C的沸腾温度，358毫米汞柱的甲苯蒸汽压，959毫米汞汞柱的苯蒸汽压，以及20:80甲苯与苯的气相摩尔比。\n",
    "\n",
    "一旦你完成了这项工作，就可以画出甲苯：苯混合物的沸腾温度，作为甲苯摩尔分数的函数，从0到1。"
   ]
  },
  {
   "cell_type": "code",
   "execution_count": null,
   "metadata": {
    "collapsed": true
   },
   "outputs": [],
   "source": [
    "\n"
   ]
  },
  {
   "cell_type": "code",
   "execution_count": null,
   "metadata": {},
   "outputs": [],
   "source": [
    "\n"
   ]
  },
  {
   "cell_type": "markdown",
   "metadata": {},
   "source": [
    "现在，计算并绘制每种温度下蒸汽中甲苯的摩尔分数。保持甲苯的摩尔分数为x轴，温度为y轴。"
   ]
  },
  {
   "cell_type": "code",
   "execution_count": null,
   "metadata": {
    "collapsed": true
   },
   "outputs": [],
   "source": [
    "\n"
   ]
  },
  {
   "cell_type": "code",
   "execution_count": null,
   "metadata": {},
   "outputs": [],
   "source": [
    "\n"
   ]
  },
  {
   "cell_type": "markdown",
   "metadata": {},
   "source": [
    "将两条曲线绘制在同一张图上。现在你有了苯-甲苯系统的蒸馏相图（假设溶液为理想体系）！"
   ]
  },
  {
   "cell_type": "code",
   "execution_count": null,
   "metadata": {},
   "outputs": [],
   "source": [
    "\n",
    "我们要加个图"
   ]
  },
  {
   "cell_type": "code",
   "execution_count": null,
   "metadata": {
    "collapsed": true
   },
   "outputs": [],
   "source": []
  }
 ],
 "metadata": {
  "kernelspec": {
   "display_name": "Python 3 (ipykernel)",
   "language": "python",
   "name": "python3"
  },
  "language_info": {
   "codemirror_mode": {
    "name": "ipython",
    "version": 3
   },
   "file_extension": ".py",
   "mimetype": "text/x-python",
   "name": "python",
   "nbconvert_exporter": "python",
   "pygments_lexer": "ipython3",
   "version": "3.8.7"
  }
 },
 "nbformat": 4,
 "nbformat_minor": 2
}
